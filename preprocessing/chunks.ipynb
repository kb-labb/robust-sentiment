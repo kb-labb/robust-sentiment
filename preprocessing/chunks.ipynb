{
 "cells": [
  {
   "cell_type": "code",
   "execution_count": 1,
   "metadata": {},
   "outputs": [],
   "source": [
    "import pandas as pd\n",
    "import os\n",
    "import json"
   ]
  },
  {
   "cell_type": "code",
   "execution_count": 2,
   "metadata": {},
   "outputs": [],
   "source": [
    "def number_ratio(paragraph):\n",
    "    num = 0\n",
    "    letter = 0\n",
    "    for char in paragraph:\n",
    "        if char.isdigit():\n",
    "            num += 1\n",
    "        else:\n",
    "            letter += 1\n",
    "\n",
    "    if letter:\n",
    "        num_ratio = (num/letter)\n",
    "        return num_ratio\n",
    "    else:\n",
    "        return 1"
   ]
  },
  {
   "cell_type": "code",
   "execution_count": 29,
   "metadata": {},
   "outputs": [],
   "source": [
    "import json\n",
    "\n",
    "annotation_file = \"/home/hilhag/prjs/robustly-sentimental/data/raw/norec/metadata.json\"\n",
    "\n",
    "# Collect source keys\n",
    "with open(annotation_file) as f:\n",
    "    metadata = json.load(f)\n",
    "\n",
    "source_keys = list(metadata.keys())\n",
    "\n",
    "paragraphs = 0\n",
    "documents = []\n",
    "\n",
    "for source_key in source_keys:\n",
    "    i = 1\n",
    "    rating = metadata[source_key][\"rating\"]\n",
    "    \n",
    "    file_name = \"/home/hilhag/prjs/robustly-sentimental/data/raw/norec/translations/\" + str(source_key) + \".txt\"\n",
    "    f = open(file_name, \"r\")\n",
    "    data = f.read()\n",
    "    data = data.split(\"\\n\\n\")\n",
    "    document = []\n",
    "    for paragraph in data:\n",
    "        p = paragraph.strip()\n",
    "        p = p.replace(\"\\n\", \" \")\n",
    "        if p:\n",
    "            num_ratio = number_ratio(p)\n",
    "            if num_ratio < 0.2:\n",
    "                i += 1\n",
    "                if rating == 1 or rating == 2:\n",
    "                    documents.append([p, 0])\n",
    "                elif rating == 3 or rating == 4:\n",
    "                    documents.append([p, 1])\n",
    "                else:\n",
    "                    documents.append([p, 2])"
   ]
  },
  {
   "cell_type": "code",
   "execution_count": 30,
   "metadata": {},
   "outputs": [],
   "source": [
    "df = pd.DataFrame(documents, columns=[\"text\", \"label\"])"
   ]
  },
  {
   "cell_type": "code",
   "execution_count": 31,
   "metadata": {},
   "outputs": [
    {
     "data": {
      "text/plain": [
       "2    247710\n",
       "1    242827\n",
       "0     30325\n",
       "Name: label, dtype: int64"
      ]
     },
     "execution_count": 31,
     "metadata": {},
     "output_type": "execute_result"
    }
   ],
   "source": [
    "df[\"label\"].value_counts()"
   ]
  },
  {
   "cell_type": "code",
   "execution_count": 32,
   "metadata": {},
   "outputs": [],
   "source": [
    "df.to_csv(\"norec-chunks.csv\", index=False)"
   ]
  },
  {
   "cell_type": "code",
   "execution_count": null,
   "metadata": {},
   "outputs": [],
   "source": []
  }
 ],
 "metadata": {
  "kernelspec": {
   "display_name": "Python 3",
   "language": "python",
   "name": "python3"
  },
  "language_info": {
   "codemirror_mode": {
    "name": "ipython",
    "version": 3
   },
   "file_extension": ".py",
   "mimetype": "text/x-python",
   "name": "python",
   "nbconvert_exporter": "python",
   "pygments_lexer": "ipython3",
   "version": "3.8.10"
  }
 },
 "nbformat": 4,
 "nbformat_minor": 4
}
