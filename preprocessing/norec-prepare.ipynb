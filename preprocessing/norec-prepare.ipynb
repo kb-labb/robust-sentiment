{
 "cells": [
  {
   "cell_type": "code",
   "execution_count": 62,
   "metadata": {},
   "outputs": [],
   "source": [
    "import pandas as pd"
   ]
  },
  {
   "cell_type": "code",
   "execution_count": 48,
   "metadata": {},
   "outputs": [],
   "source": [
    "def number_ratio(paragraph):\n",
    "    num = 0\n",
    "    letter = 0\n",
    "    for char in paragraph:\n",
    "        if char.isdigit():\n",
    "            num += 1\n",
    "        else:\n",
    "            letter += 1\n",
    "\n",
    "    if letter:\n",
    "        num_ratio = (num/letter)\n",
    "        return num_ratio\n",
    "    else:\n",
    "        return 1"
   ]
  },
  {
   "cell_type": "code",
   "execution_count": 95,
   "metadata": {},
   "outputs": [],
   "source": [
    "import json\n",
    "\n",
    "annotation_file = \"/home/hilhag/prjs/robustly-sentimental/data/raw/norec/metadata.json\"\n",
    "\n",
    "# Collect source keys\n",
    "with open(annotation_file) as f:\n",
    "    metadata = json.load(f)\n",
    "\n",
    "source_keys = list(metadata.keys())\n",
    "\n",
    "paragraphs = 0\n",
    "documents = []\n",
    "\n",
    "for source_key in source_keys:\n",
    "    rating = metadata[source_key][\"rating\"]\n",
    "    \n",
    "    file_name = \"/home/hilhag/prjs/robustly-sentimental/data/raw/norec/translations/\" + str(source_key) + \".txt\"\n",
    "    f = open(file_name, \"r\")\n",
    "    document = []\n",
    "    for paragraph in f:\n",
    "        p = paragraph.strip()\n",
    "        if p:\n",
    "            num_ratio = number_ratio(p)\n",
    "            if num_ratio < 0.2:\n",
    "                document.append(p)\n",
    "        \n",
    "        d = ' '.join(document)\n",
    "    if rating == 1 or rating == 2:\n",
    "        documents.append([d, 0])\n",
    "    elif rating == 3 or rating == 4:\n",
    "        documents.append([d, 1])\n",
    "    else:\n",
    "        documents.append([d, 2])\n"
   ]
  },
  {
   "cell_type": "code",
   "execution_count": 96,
   "metadata": {},
   "outputs": [],
   "source": [
    "df = pd.DataFrame(documents, columns=[\"text\", \"label\"])"
   ]
  },
  {
   "cell_type": "code",
   "execution_count": 99,
   "metadata": {},
   "outputs": [
    {
     "data": {
      "text/plain": [
       "1    21619\n",
       "2    18768\n",
       "0     3227\n",
       "Name: label, dtype: int64"
      ]
     },
     "execution_count": 99,
     "metadata": {},
     "output_type": "execute_result"
    }
   ],
   "source": [
    "df[\"label\"].value_counts()"
   ]
  },
  {
   "cell_type": "code",
   "execution_count": null,
   "metadata": {},
   "outputs": [],
   "source": [
    "# 0 neg == 1, 2\n",
    "# 1 neu == 3, 4\n",
    "# 2 pos == 5, 56"
   ]
  },
  {
   "cell_type": "code",
   "execution_count": 101,
   "metadata": {},
   "outputs": [],
   "source": [
    "df.to_csv(\"/home/hilhag/prjs/robustly-sentimental/data/processed/norec.csv\")"
   ]
  },
  {
   "cell_type": "code",
   "execution_count": null,
   "metadata": {},
   "outputs": [],
   "source": []
  }
 ],
 "metadata": {
  "kernelspec": {
   "display_name": "Python 3",
   "language": "python",
   "name": "python3"
  },
  "language_info": {
   "codemirror_mode": {
    "name": "ipython",
    "version": 3
   },
   "file_extension": ".py",
   "mimetype": "text/x-python",
   "name": "python",
   "nbconvert_exporter": "python",
   "pygments_lexer": "ipython3",
   "version": "3.8.10"
  }
 },
 "nbformat": 4,
 "nbformat_minor": 4
}
