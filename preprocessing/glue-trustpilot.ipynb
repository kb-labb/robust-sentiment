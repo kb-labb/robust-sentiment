{
 "cells": [
  {
   "cell_type": "code",
   "execution_count": 3,
   "id": "ea89da7f",
   "metadata": {},
   "outputs": [],
   "source": [
    "import pandas as pd\n",
    "import numpy as np"
   ]
  },
  {
   "cell_type": "code",
   "execution_count": 4,
   "id": "74a3cbac",
   "metadata": {},
   "outputs": [],
   "source": [
    "# Put all ABSA data into one dataframe\n",
    "# It will be divided into train and test at a later stage\n",
    "\n",
    "pos_neg_file = \"../data/raw/trustpilot/sv.csv\"\n",
    "neu_file = \"../data/raw/trustpilot/trustpilot_neutral.txt\""
   ]
  },
  {
   "cell_type": "code",
   "execution_count": 5,
   "id": "cc384a33",
   "metadata": {},
   "outputs": [],
   "source": [
    "pos_neg_df = pd.read_csv(pos_neg_file, delimiter = \",\")\n",
    "neu_df = pd.read_table(neu_file)"
   ]
  },
  {
   "cell_type": "code",
   "execution_count": 15,
   "id": "575f3cc0",
   "metadata": {},
   "outputs": [],
   "source": [
    "neu_df = neu_df.dropna() # Drop NaN"
   ]
  },
  {
   "cell_type": "code",
   "execution_count": 26,
   "id": "4431168b",
   "metadata": {},
   "outputs": [
    {
     "data": {
      "text/html": [
       "<div>\n",
       "<style scoped>\n",
       "    .dataframe tbody tr th:only-of-type {\n",
       "        vertical-align: middle;\n",
       "    }\n",
       "\n",
       "    .dataframe tbody tr th {\n",
       "        vertical-align: top;\n",
       "    }\n",
       "\n",
       "    .dataframe thead th {\n",
       "        text-align: right;\n",
       "    }\n",
       "</style>\n",
       "<table border=\"1\" class=\"dataframe\">\n",
       "  <thead>\n",
       "    <tr style=\"text-align: right;\">\n",
       "      <th></th>\n",
       "      <th>text</th>\n",
       "      <th>label</th>\n",
       "    </tr>\n",
       "  </thead>\n",
       "  <tbody>\n",
       "    <tr>\n",
       "      <th>0</th>\n",
       "      <td>Precis som flera andra skriver så har jag ocks...</td>\n",
       "      <td>0</td>\n",
       "    </tr>\n",
       "    <tr>\n",
       "      <th>1</th>\n",
       "      <td>Fungerar utmärkt, jag är väldigt nöjd mer Aros</td>\n",
       "      <td>1</td>\n",
       "    </tr>\n",
       "    <tr>\n",
       "      <th>2</th>\n",
       "      <td>Jag gillar Mode Cold Brew Coffee det har en go...</td>\n",
       "      <td>1</td>\n",
       "    </tr>\n",
       "    <tr>\n",
       "      <th>3</th>\n",
       "      <td>Grym på både tatueringar och piercings! Och ma...</td>\n",
       "      <td>1</td>\n",
       "    </tr>\n",
       "    <tr>\n",
       "      <th>4</th>\n",
       "      <td>Snabb leverans o bra service</td>\n",
       "      <td>1</td>\n",
       "    </tr>\n",
       "    <tr>\n",
       "      <th>...</th>\n",
       "      <td>...</td>\n",
       "      <td>...</td>\n",
       "    </tr>\n",
       "    <tr>\n",
       "      <th>9995</th>\n",
       "      <td>Teloteket är det sämsta tänkbara, met oseriösa...</td>\n",
       "      <td>0</td>\n",
       "    </tr>\n",
       "    <tr>\n",
       "      <th>9996</th>\n",
       "      <td>Snabb leverans. Tyvärr var höjdinställningsskr...</td>\n",
       "      <td>1</td>\n",
       "    </tr>\n",
       "    <tr>\n",
       "      <th>9997</th>\n",
       "      <td>Bra prylar till bra priser.Grym service och sm...</td>\n",
       "      <td>1</td>\n",
       "    </tr>\n",
       "    <tr>\n",
       "      <th>9998</th>\n",
       "      <td>Min beställning kom snabbt o korrekt. Jättenöjd.</td>\n",
       "      <td>1</td>\n",
       "    </tr>\n",
       "    <tr>\n",
       "      <th>9999</th>\n",
       "      <td>Min butik säljer kläder som är snygga och som ...</td>\n",
       "      <td>1</td>\n",
       "    </tr>\n",
       "  </tbody>\n",
       "</table>\n",
       "<p>10000 rows × 2 columns</p>\n",
       "</div>"
      ],
      "text/plain": [
       "                                                   text  label\n",
       "0     Precis som flera andra skriver så har jag ocks...      0\n",
       "1        Fungerar utmärkt, jag är väldigt nöjd mer Aros      1\n",
       "2     Jag gillar Mode Cold Brew Coffee det har en go...      1\n",
       "3     Grym på både tatueringar och piercings! Och ma...      1\n",
       "4                          Snabb leverans o bra service      1\n",
       "...                                                 ...    ...\n",
       "9995  Teloteket är det sämsta tänkbara, met oseriösa...      0\n",
       "9996  Snabb leverans. Tyvärr var höjdinställningsskr...      1\n",
       "9997  Bra prylar till bra priser.Grym service och sm...      1\n",
       "9998   Min beställning kom snabbt o korrekt. Jättenöjd.      1\n",
       "9999  Min butik säljer kläder som är snygga och som ...      1\n",
       "\n",
       "[10000 rows x 2 columns]"
      ]
     },
     "execution_count": 26,
     "metadata": {},
     "output_type": "execute_result"
    }
   ],
   "source": [
    "pos_neg_df"
   ]
  },
  {
   "cell_type": "code",
   "execution_count": 19,
   "id": "a1e75214",
   "metadata": {},
   "outputs": [],
   "source": [
    "neu_df.columns =['text', 'label']"
   ]
  },
  {
   "cell_type": "code",
   "execution_count": 22,
   "id": "91946039",
   "metadata": {},
   "outputs": [],
   "source": [
    "df = pd.concat([pos_neg_df, neu_df], ignore_index=True)"
   ]
  },
  {
   "cell_type": "code",
   "execution_count": 21,
   "id": "efbe3963",
   "metadata": {},
   "outputs": [],
   "source": [
    "#pos_neg_df.append(neu_df)"
   ]
  },
  {
   "cell_type": "code",
   "execution_count": 8,
   "id": "f3fac93f",
   "metadata": {},
   "outputs": [],
   "source": [
    "df = pd.concat([pos_neg_df, neu_df], ignore_index=True)"
   ]
  },
  {
   "cell_type": "code",
   "execution_count": 114,
   "id": "7d6dd926",
   "metadata": {},
   "outputs": [],
   "source": [
    "df[\"label\"] = df[\"label\"].apply(np.ceil).astype(str) # Round up to get label and convert to int"
   ]
  },
  {
   "cell_type": "code",
   "execution_count": 27,
   "id": "debfc459",
   "metadata": {},
   "outputs": [],
   "source": [
    "df[\"label\"] = df[\"label\"].replace([\"0.0\", \"1.0\", \"3.0\"], [\"0.0\", \"2.0\", \"1.0\"])\n",
    "df[\"label\"] = pd.to_numeric(df[\"label\"])\n",
    "df[\"label\"] = df[\"label\"].astype(int)\n",
    "\n",
    "#df[\"label\"] = df[\"label\"].replace([\"2\", \"3\", \"4\", \"5\"], [\"1\", \"2\", \"3\", \"3\"]) # Normalize values on a 1-3 scale where 1 is negative, 2 is neutral and 3 is positive (I think)"
   ]
  },
  {
   "cell_type": "code",
   "execution_count": 28,
   "id": "69d9c758",
   "metadata": {},
   "outputs": [
    {
     "data": {
      "text/plain": [
       "label\n",
       "0    5000\n",
       "1    5000\n",
       "3    3114\n",
       "dtype: int64"
      ]
     },
     "execution_count": 28,
     "metadata": {},
     "output_type": "execute_result"
    }
   ],
   "source": [
    "df.value_counts(\"label\")"
   ]
  },
  {
   "cell_type": "code",
   "execution_count": 29,
   "id": "31294b36",
   "metadata": {},
   "outputs": [],
   "source": [
    "df = df[[\"text\", \"label\"]]"
   ]
  },
  {
   "cell_type": "code",
   "execution_count": 30,
   "id": "f2db689d",
   "metadata": {},
   "outputs": [],
   "source": [
    "df.to_csv(\"../data/processed/trustpilot.csv\")"
   ]
  },
  {
   "cell_type": "code",
   "execution_count": null,
   "id": "782b1aa6",
   "metadata": {},
   "outputs": [],
   "source": []
  }
 ],
 "metadata": {
  "kernelspec": {
   "display_name": "Python 3 (ipykernel)",
   "language": "python",
   "name": "python3"
  },
  "language_info": {
   "codemirror_mode": {
    "name": "ipython",
    "version": 3
   },
   "file_extension": ".py",
   "mimetype": "text/x-python",
   "name": "python",
   "nbconvert_exporter": "python",
   "pygments_lexer": "ipython3",
   "version": "3.10.6"
  }
 },
 "nbformat": 4,
 "nbformat_minor": 5
}
